{
 "cells": [
  {
   "cell_type": "code",
   "execution_count": 4,
   "id": "4b341e5f",
   "metadata": {},
   "outputs": [
    {
     "name": "stdout",
     "output_type": "stream",
     "text": [
      "/d/Development/Language/Python/repos/Cambridge-Dictionary-Crawler/.venv/Scripts/python\n"
     ]
    }
   ],
   "source": [
    "!which python\n",
    "# 检查你的 python 是否是虚拟环境\n",
    "# check if your python is from a virtual environment"
   ]
  },
  {
   "cell_type": "markdown",
   "id": "82f1123a",
   "metadata": {},
   "source": [
    "# 导入 (import)"
   ]
  },
  {
   "cell_type": "code",
   "execution_count": 7,
   "id": "ff383457",
   "metadata": {},
   "outputs": [],
   "source": [
    "import pandas as pd\n",
    "from io import StringIO\n",
    "\n",
    "'''\n",
    "处理 jsonl 为 pandas dataframe\n",
    "Process jsonl to pandas dataframe\n",
    "'''\n",
    "words_df = pd.read_json(\"../camb_dict_crawler/successful_items.jl\", orient=\"records\", lines=True)\n",
    "words_df = words_df.explode(\"definitions\")\n",
    "words_df[\"cefr\"] = words_df['definitions'].apply(lambda x: dict(x).get(\"cefr\", None))\n",
    "words_df[\"definition_en\"] = words_df[\"definitions\"].apply(lambda x: dict(dict(x).get(\"definition\")).get(\"en\", None))\n",
    "words_df[\"definition_zh\"] = words_df[\"definitions\"].apply(lambda x: dict(dict(x).get(\"definition\")).get(\"zh\", None))\n",
    "words_df = words_df.drop(columns=[\"definitions\"])\n"
   ]
  },
  {
   "cell_type": "markdown",
   "id": "d9776417",
   "metadata": {},
   "source": [
    "# 清洗（Cleaning）"
   ]
  },
  {
   "cell_type": "code",
   "execution_count": null,
   "id": "16e4f97b",
   "metadata": {},
   "outputs": [],
   "source": [
    "import re\n",
    "\n",
    "def clean(en_definition: str) -> str:\n",
    "    # 去除多余的行\n",
    "    # Remove unnecessary new lines\n",
    "    en_definition = re.sub(r\"\\s*\\n\", \" \", en_definition)\n",
    "    \n",
    "    # 去除没必要的空格\n",
    "    # Remove unnecessary spaces\n",
    "    result: str = \"\"\n",
    "    str_list = re.split(r\"\\s+\", en_definition)\n",
    "    str_list_len = len(str_list)\n",
    "    for i, sub_str in enumerate(str_list):\n",
    "        if i == str_list_len - 1:\n",
    "            result += str_list[-1]\n",
    "        else:\n",
    "            result += sub_str + \" \"\n",
    "    return result\n",
    "\n",
    "words_df[\"definition_en\"] = words_df[\"definition_en\"].apply(clean)\n",
    "words_df[\"part_of_speech\"] = words_df[\"part_of_speech\"].apply(clean)\n",
    "words_df[\"cefr\"] = words_df[\"cefr\"].apply(clean)\n",
    "words_df.to_csv(\"cleaned_words.csv\", index=False)"
   ]
  }
 ],
 "metadata": {
  "kernelspec": {
   "display_name": ".venv",
   "language": "python",
   "name": "python3"
  },
  "language_info": {
   "codemirror_mode": {
    "name": "ipython",
    "version": 3
   },
   "file_extension": ".py",
   "mimetype": "text/x-python",
   "name": "python",
   "nbconvert_exporter": "python",
   "pygments_lexer": "ipython3",
   "version": "3.12.9"
  }
 },
 "nbformat": 4,
 "nbformat_minor": 5
}
